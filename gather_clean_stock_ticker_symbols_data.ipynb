{
  "nbformat": 4,
  "nbformat_minor": 0,
  "metadata": {
    "colab": {
      "provenance": [],
      "authorship_tag": "ABX9TyNIC9gjqB76s9OFQfYU/rig",
      "include_colab_link": true
    },
    "kernelspec": {
      "name": "python3",
      "display_name": "Python 3"
    },
    "language_info": {
      "name": "python"
    }
  },
  "cells": [
    {
      "cell_type": "markdown",
      "metadata": {
        "id": "view-in-github",
        "colab_type": "text"
      },
      "source": [
        "<a href=\"https://colab.research.google.com/github/xcollantes/stock_analysis_dataset/blob/main/gather_clean_stock_ticker_symbols_data.ipynb\" target=\"_parent\"><img src=\"https://colab.research.google.com/assets/colab-badge.svg\" alt=\"Open In Colab\"/></a>"
      ]
    },
    {
      "cell_type": "markdown",
      "source": [
        "# Gather clean stock ticker symbols data\n",
        "\n",
        "The earliest data source found was updated 4 years ago as of 2023.  I will gather and stanardize stock symbol tickers.  "
      ],
      "metadata": {
        "id": "z1U3vH08bAnq"
      }
    },
    {
      "cell_type": "code",
      "source": [],
      "metadata": {
        "id": "6R9QoqkBbU_a"
      },
      "execution_count": null,
      "outputs": []
    }
  ]
}